{
 "cells": [
  {
   "cell_type": "code",
   "execution_count": 5,
   "id": "fa12feda-4934-4d59-95fd-b90f31f3c409",
   "metadata": {},
   "outputs": [
    {
     "name": "stdout",
     "output_type": "stream",
     "text": [
      "Collecting moviepy\n",
      "  Downloading moviepy-2.1.2-py3-none-any.whl.metadata (6.9 kB)\n",
      "Requirement already satisfied: decorator<6.0,>=4.0.2 in c:\\users\\iceem\\anaconda3\\lib\\site-packages (from moviepy) (5.1.1)\n",
      "Requirement already satisfied: imageio<3.0,>=2.5 in c:\\users\\iceem\\anaconda3\\lib\\site-packages (from moviepy) (2.33.1)\n",
      "Collecting imageio_ffmpeg>=0.2.0 (from moviepy)\n",
      "  Downloading imageio_ffmpeg-0.6.0-py3-none-win_amd64.whl.metadata (1.5 kB)\n",
      "Requirement already satisfied: numpy>=1.25.0 in c:\\users\\iceem\\anaconda3\\lib\\site-packages (from moviepy) (1.26.4)\n",
      "Collecting proglog<=1.0.0 (from moviepy)\n",
      "  Downloading proglog-0.1.10-py3-none-any.whl.metadata (639 bytes)\n",
      "Requirement already satisfied: python-dotenv>=0.10 in c:\\users\\iceem\\anaconda3\\lib\\site-packages (from moviepy) (0.21.0)\n",
      "Requirement already satisfied: pillow<11.0,>=9.2.0 in c:\\users\\iceem\\anaconda3\\lib\\site-packages (from moviepy) (10.4.0)\n",
      "Requirement already satisfied: tqdm in c:\\users\\iceem\\anaconda3\\lib\\site-packages (from proglog<=1.0.0->moviepy) (4.66.5)\n",
      "Requirement already satisfied: colorama in c:\\users\\iceem\\anaconda3\\lib\\site-packages (from tqdm->proglog<=1.0.0->moviepy) (0.4.6)\n",
      "Downloading moviepy-2.1.2-py3-none-any.whl (126 kB)\n",
      "Downloading imageio_ffmpeg-0.6.0-py3-none-win_amd64.whl (31.2 MB)\n",
      "   ---------------------------------------- 0.0/31.2 MB ? eta -:--:--\n",
      "   - -------------------------------------- 0.8/31.2 MB 4.8 MB/s eta 0:00:07\n",
      "   - -------------------------------------- 1.3/31.2 MB 3.5 MB/s eta 0:00:09\n",
      "   --- ------------------------------------ 2.4/31.2 MB 3.8 MB/s eta 0:00:08\n",
      "   --- ------------------------------------ 2.9/31.2 MB 3.7 MB/s eta 0:00:08\n",
      "   ---- ----------------------------------- 3.7/31.2 MB 3.6 MB/s eta 0:00:08\n",
      "   ------ --------------------------------- 5.0/31.2 MB 4.1 MB/s eta 0:00:07\n",
      "   ------- -------------------------------- 5.5/31.2 MB 4.2 MB/s eta 0:00:07\n",
      "   -------- ------------------------------- 6.8/31.2 MB 4.2 MB/s eta 0:00:06\n",
      "   --------- ------------------------------ 7.3/31.2 MB 4.2 MB/s eta 0:00:06\n",
      "   ----------- ---------------------------- 8.7/31.2 MB 4.3 MB/s eta 0:00:06\n",
      "   ------------ --------------------------- 10.0/31.2 MB 4.5 MB/s eta 0:00:05\n",
      "   -------------- ------------------------- 11.3/31.2 MB 4.6 MB/s eta 0:00:05\n",
      "   ---------------- ----------------------- 12.6/31.2 MB 4.7 MB/s eta 0:00:04\n",
      "   ---------------- ----------------------- 12.8/31.2 MB 4.5 MB/s eta 0:00:05\n",
      "   ------------------ --------------------- 14.2/31.2 MB 4.6 MB/s eta 0:00:04\n",
      "   ------------------- -------------------- 15.2/31.2 MB 4.6 MB/s eta 0:00:04\n",
      "   --------------------- ------------------ 16.5/31.2 MB 4.7 MB/s eta 0:00:04\n",
      "   ---------------------- ----------------- 17.8/31.2 MB 4.8 MB/s eta 0:00:03\n",
      "   ------------------------ --------------- 18.9/31.2 MB 4.8 MB/s eta 0:00:03\n",
      "   ------------------------ --------------- 19.1/31.2 MB 4.6 MB/s eta 0:00:03\n",
      "   -------------------------- ------------- 20.4/31.2 MB 4.7 MB/s eta 0:00:03\n",
      "   -------------------------- ------------- 21.0/31.2 MB 4.7 MB/s eta 0:00:03\n",
      "   --------------------------- ------------ 21.8/31.2 MB 4.6 MB/s eta 0:00:03\n",
      "   ---------------------------- ----------- 22.3/31.2 MB 4.6 MB/s eta 0:00:02\n",
      "   ----------------------------- ---------- 22.8/31.2 MB 4.4 MB/s eta 0:00:02\n",
      "   ----------------------------- ---------- 23.1/31.2 MB 4.4 MB/s eta 0:00:02\n",
      "   ------------------------------ --------- 24.1/31.2 MB 4.3 MB/s eta 0:00:02\n",
      "   ------------------------------- -------- 24.4/31.2 MB 4.2 MB/s eta 0:00:02\n",
      "   ------------------------------- -------- 24.4/31.2 MB 4.2 MB/s eta 0:00:02\n",
      "   -------------------------------- ------- 25.2/31.2 MB 4.0 MB/s eta 0:00:02\n",
      "   -------------------------------- ------- 25.7/31.2 MB 4.0 MB/s eta 0:00:02\n",
      "   --------------------------------- ------ 26.0/31.2 MB 3.9 MB/s eta 0:00:02\n",
      "   --------------------------------- ------ 26.5/31.2 MB 3.8 MB/s eta 0:00:02\n",
      "   ---------------------------------- ----- 27.0/31.2 MB 3.8 MB/s eta 0:00:02\n",
      "   ---------------------------------- ----- 27.3/31.2 MB 3.7 MB/s eta 0:00:02\n",
      "   ---------------------------------- ----- 27.3/31.2 MB 3.7 MB/s eta 0:00:02\n",
      "   ----------------------------------- ---- 27.5/31.2 MB 3.6 MB/s eta 0:00:02\n",
      "   ----------------------------------- ---- 28.0/31.2 MB 3.5 MB/s eta 0:00:01\n",
      "   ------------------------------------ --- 28.6/31.2 MB 3.5 MB/s eta 0:00:01\n",
      "   ------------------------------------- -- 29.4/31.2 MB 3.5 MB/s eta 0:00:01\n",
      "   -------------------------------------- - 29.9/31.2 MB 3.5 MB/s eta 0:00:01\n",
      "   ---------------------------------------  30.7/31.2 MB 3.5 MB/s eta 0:00:01\n",
      "   ---------------------------------------  31.2/31.2 MB 3.5 MB/s eta 0:00:01\n",
      "   ---------------------------------------- 31.2/31.2 MB 3.4 MB/s eta 0:00:00\n",
      "Downloading proglog-0.1.10-py3-none-any.whl (6.1 kB)\n",
      "Installing collected packages: imageio_ffmpeg, proglog, moviepy\n",
      "Successfully installed imageio_ffmpeg-0.6.0 moviepy-2.1.2 proglog-0.1.10\n"
     ]
    }
   ],
   "source": [
    "!pip install moviepy"
   ]
  },
  {
   "cell_type": "code",
   "execution_count": null,
   "id": "0e5321e5-d76c-4a60-994a-abba8850b4de",
   "metadata": {},
   "outputs": [],
   "source": []
  }
 ],
 "metadata": {
  "kernelspec": {
   "display_name": "Python [conda env:base] *",
   "language": "python",
   "name": "conda-base-py"
  },
  "language_info": {
   "codemirror_mode": {
    "name": "ipython",
    "version": 3
   },
   "file_extension": ".py",
   "mimetype": "text/x-python",
   "name": "python",
   "nbconvert_exporter": "python",
   "pygments_lexer": "ipython3",
   "version": "3.12.7"
  }
 },
 "nbformat": 4,
 "nbformat_minor": 5
}
