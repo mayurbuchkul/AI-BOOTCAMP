{
 "cells": [
  {
   "cell_type": "code",
   "execution_count": 23,
   "id": "dca6a1cb-13e4-4cd1-bc58-a8874f0ab901",
   "metadata": {},
   "outputs": [],
   "source": [
    "import pandas as pd\n",
    "# Step 2: Generate Random Dataset\n"
   ]
  },
  {
   "cell_type": "code",
   "execution_count": 25,
   "id": "06c61208-75bc-4437-8de8-0719b95b0aed",
   "metadata": {},
   "outputs": [],
   "source": [
    "import numpy as np"
   ]
  },
  {
   "cell_type": "code",
   "execution_count": 27,
   "id": "a83cb57f-a980-4342-a81c-f798d8abbf8b",
   "metadata": {},
   "outputs": [],
   "source": [
    "data = {\n",
    "    'Visitor_ID': [f'V{1000 + i}' for i in range(20)],\n",
    "    'Name': ['ABHISHEK SANDEEP      ZADE     ', 'ARNAV AJAY DESHPANDE.. ', '.. .. ASHWINI LALCHAND MUNDAWARE/ ', 'GAYATRI SURESH GAIKWAD', 'HARSHADA GANESH CHAUDHARI',\n",
    "             'VAIBHAVI HARISHWAR PATIL', np.nan, 'VISHAKHA PUNDLIK JADHAV', 'YASH BHARAT SOLUNKE/', 'VIVEK SANTOSH KHANDWE',\n",
    "             'VISHAKHA PUNDLIK JADHAV', 'Tanushree chhanwal', 'Shruti jaiswal', 'Shriyash Sulakhe', 'YASH BHARAT SOLUNKE',\n",
    "             np.nan, 'ARNAV AJAY DESHPANDE', 'RUTUJA SANTOSH THOTE', 'ROHIT DILIP BILWAL', 'RITESH SHIVAJI BAIRAGI'],\n",
    "    'Age': [25, 23, 22, np.nan, 21, 25, 24, 24, 28, np.nan,\n",
    "            22, 23, 25, 27, 25, 30, 31, 26, 19, 19],\n",
    "    'Ticket_Price': [500, 750, 500, 1000, np.nan, 500, 700, 650, 750, 1000,\n",
    "                      500, 800, np.nan, 750, 500, 700, 900, 850, 750, np.nan],\n",
    "    'Check_In_Time': ['10:00 AM', '10:30 AM', '11:00 AM', '11:30 AM', np.nan,\n",
    "                       '10:00 AM', '12:00 PM', '12:30 PM', '01:00 PM', '01:30 PM',\n",
    "                       '11:00 AM', '02:00 PM', np.nan, '02:30 PM', '10:00 AM',\n",
    "                       '12:00 PM', '03:00 PM', '03:30 PM', '04:00 PM', np.nan],\n",
    "    'City':['Delhi','Aurangabad', 'Mumbai','Bombay','New Delhi','NDL','Chennai','Chenai','Chennaai','Bangalore',\n",
    "            'Delhi','Pune', 'New Delhi','Bombay','New Delhi','NDL','Indore','Bangalore','Ujjain','Bangalore'],\n",
    "    'State': ['Delhi','Maharastra', 'Maharastra','Maharastra','Delhi','Delhi','Tamilnadu','Tamilnadu','Tamilnadu','Karnataka',\n",
    "            'Delhi','Maharastra', 'Delhi','Maharastra','Delhi','Delhi','Madhya Pradesh','Karnataka','Madhya Pradesh','Karnataka']\n",
    "}\n"
   ]
  },
  {
   "cell_type": "code",
   "execution_count": 29,
   "id": "ba65c6a9-8334-44a3-a478-34a136b53bb5",
   "metadata": {},
   "outputs": [
    {
     "data": {
      "text/html": [
       "<div>\n",
       "<style scoped>\n",
       "    .dataframe tbody tr th:only-of-type {\n",
       "        vertical-align: middle;\n",
       "    }\n",
       "\n",
       "    .dataframe tbody tr th {\n",
       "        vertical-align: top;\n",
       "    }\n",
       "\n",
       "    .dataframe thead th {\n",
       "        text-align: right;\n",
       "    }\n",
       "</style>\n",
       "<table border=\"1\" class=\"dataframe\">\n",
       "  <thead>\n",
       "    <tr style=\"text-align: right;\">\n",
       "      <th></th>\n",
       "      <th>Visitor_ID</th>\n",
       "      <th>Name</th>\n",
       "      <th>Age</th>\n",
       "      <th>Ticket_Price</th>\n",
       "      <th>Check_In_Time</th>\n",
       "      <th>City</th>\n",
       "      <th>State</th>\n",
       "    </tr>\n",
       "  </thead>\n",
       "  <tbody>\n",
       "    <tr>\n",
       "      <th>0</th>\n",
       "      <td>V1000</td>\n",
       "      <td>ABHISHEK SANDEEP      ZADE</td>\n",
       "      <td>25.0</td>\n",
       "      <td>500.0</td>\n",
       "      <td>10:00 AM</td>\n",
       "      <td>Delhi</td>\n",
       "      <td>Delhi</td>\n",
       "    </tr>\n",
       "    <tr>\n",
       "      <th>1</th>\n",
       "      <td>V1001</td>\n",
       "      <td>ARNAV AJAY DESHPANDE..</td>\n",
       "      <td>23.0</td>\n",
       "      <td>750.0</td>\n",
       "      <td>10:30 AM</td>\n",
       "      <td>Aurangabad</td>\n",
       "      <td>Maharastra</td>\n",
       "    </tr>\n",
       "    <tr>\n",
       "      <th>2</th>\n",
       "      <td>V1002</td>\n",
       "      <td>.. .. ASHWINI LALCHAND MUNDAWARE/</td>\n",
       "      <td>22.0</td>\n",
       "      <td>500.0</td>\n",
       "      <td>11:00 AM</td>\n",
       "      <td>Mumbai</td>\n",
       "      <td>Maharastra</td>\n",
       "    </tr>\n",
       "    <tr>\n",
       "      <th>3</th>\n",
       "      <td>V1003</td>\n",
       "      <td>GAYATRI SURESH GAIKWAD</td>\n",
       "      <td>NaN</td>\n",
       "      <td>1000.0</td>\n",
       "      <td>11:30 AM</td>\n",
       "      <td>Bombay</td>\n",
       "      <td>Maharastra</td>\n",
       "    </tr>\n",
       "    <tr>\n",
       "      <th>4</th>\n",
       "      <td>V1004</td>\n",
       "      <td>HARSHADA GANESH CHAUDHARI</td>\n",
       "      <td>21.0</td>\n",
       "      <td>NaN</td>\n",
       "      <td>NaN</td>\n",
       "      <td>New Delhi</td>\n",
       "      <td>Delhi</td>\n",
       "    </tr>\n",
       "    <tr>\n",
       "      <th>5</th>\n",
       "      <td>V1005</td>\n",
       "      <td>VAIBHAVI HARISHWAR PATIL</td>\n",
       "      <td>25.0</td>\n",
       "      <td>500.0</td>\n",
       "      <td>10:00 AM</td>\n",
       "      <td>NDL</td>\n",
       "      <td>Delhi</td>\n",
       "    </tr>\n",
       "    <tr>\n",
       "      <th>6</th>\n",
       "      <td>V1006</td>\n",
       "      <td>NaN</td>\n",
       "      <td>24.0</td>\n",
       "      <td>700.0</td>\n",
       "      <td>12:00 PM</td>\n",
       "      <td>Chennai</td>\n",
       "      <td>Tamilnadu</td>\n",
       "    </tr>\n",
       "  </tbody>\n",
       "</table>\n",
       "</div>"
      ],
      "text/plain": [
       "  Visitor_ID                                Name   Age  Ticket_Price  \\\n",
       "0      V1000     ABHISHEK SANDEEP      ZADE       25.0         500.0   \n",
       "1      V1001             ARNAV AJAY DESHPANDE..   23.0         750.0   \n",
       "2      V1002  .. .. ASHWINI LALCHAND MUNDAWARE/   22.0         500.0   \n",
       "3      V1003              GAYATRI SURESH GAIKWAD   NaN        1000.0   \n",
       "4      V1004           HARSHADA GANESH CHAUDHARI  21.0           NaN   \n",
       "5      V1005            VAIBHAVI HARISHWAR PATIL  25.0         500.0   \n",
       "6      V1006                                 NaN  24.0         700.0   \n",
       "\n",
       "  Check_In_Time        City       State  \n",
       "0      10:00 AM       Delhi       Delhi  \n",
       "1      10:30 AM  Aurangabad  Maharastra  \n",
       "2      11:00 AM      Mumbai  Maharastra  \n",
       "3      11:30 AM      Bombay  Maharastra  \n",
       "4           NaN   New Delhi       Delhi  \n",
       "5      10:00 AM         NDL       Delhi  \n",
       "6      12:00 PM     Chennai   Tamilnadu  "
      ]
     },
     "execution_count": 29,
     "metadata": {},
     "output_type": "execute_result"
    }
   ],
   "source": [
    "dframe = pd.DataFrame(data)\n",
    "dframe.head(7)"
   ]
  },
  {
   "cell_type": "code",
   "execution_count": 31,
   "id": "89ffefbf-0cf5-4a75-be90-790a0048ff42",
   "metadata": {},
   "outputs": [
    {
     "data": {
      "text/plain": [
       "<bound method NDFrame.describe of    Visitor_ID                                Name   Age  Ticket_Price  \\\n",
       "0       V1000     ABHISHEK SANDEEP      ZADE       25.0         500.0   \n",
       "1       V1001             ARNAV AJAY DESHPANDE..   23.0         750.0   \n",
       "2       V1002  .. .. ASHWINI LALCHAND MUNDAWARE/   22.0         500.0   \n",
       "3       V1003              GAYATRI SURESH GAIKWAD   NaN        1000.0   \n",
       "4       V1004           HARSHADA GANESH CHAUDHARI  21.0           NaN   \n",
       "5       V1005            VAIBHAVI HARISHWAR PATIL  25.0         500.0   \n",
       "6       V1006                                 NaN  24.0         700.0   \n",
       "7       V1007             VISHAKHA PUNDLIK JADHAV  24.0         650.0   \n",
       "8       V1008                YASH BHARAT SOLUNKE/  28.0         750.0   \n",
       "9       V1009               VIVEK SANTOSH KHANDWE   NaN        1000.0   \n",
       "10      V1010             VISHAKHA PUNDLIK JADHAV  22.0         500.0   \n",
       "11      V1011                  Tanushree chhanwal  23.0         800.0   \n",
       "12      V1012                      Shruti jaiswal  25.0           NaN   \n",
       "13      V1013                    Shriyash Sulakhe  27.0         750.0   \n",
       "14      V1014                 YASH BHARAT SOLUNKE  25.0         500.0   \n",
       "15      V1015                                 NaN  30.0         700.0   \n",
       "16      V1016                ARNAV AJAY DESHPANDE  31.0         900.0   \n",
       "17      V1017                RUTUJA SANTOSH THOTE  26.0         850.0   \n",
       "18      V1018                  ROHIT DILIP BILWAL  19.0         750.0   \n",
       "19      V1019              RITESH SHIVAJI BAIRAGI  19.0           NaN   \n",
       "\n",
       "   Check_In_Time        City           State  \n",
       "0       10:00 AM       Delhi           Delhi  \n",
       "1       10:30 AM  Aurangabad      Maharastra  \n",
       "2       11:00 AM      Mumbai      Maharastra  \n",
       "3       11:30 AM      Bombay      Maharastra  \n",
       "4            NaN   New Delhi           Delhi  \n",
       "5       10:00 AM         NDL           Delhi  \n",
       "6       12:00 PM     Chennai       Tamilnadu  \n",
       "7       12:30 PM      Chenai       Tamilnadu  \n",
       "8       01:00 PM    Chennaai       Tamilnadu  \n",
       "9       01:30 PM   Bangalore       Karnataka  \n",
       "10      11:00 AM       Delhi           Delhi  \n",
       "11      02:00 PM        Pune      Maharastra  \n",
       "12           NaN   New Delhi           Delhi  \n",
       "13      02:30 PM      Bombay      Maharastra  \n",
       "14      10:00 AM   New Delhi           Delhi  \n",
       "15      12:00 PM         NDL           Delhi  \n",
       "16      03:00 PM      Indore  Madhya Pradesh  \n",
       "17      03:30 PM   Bangalore       Karnataka  \n",
       "18      04:00 PM      Ujjain  Madhya Pradesh  \n",
       "19           NaN   Bangalore       Karnataka  >"
      ]
     },
     "execution_count": 31,
     "metadata": {},
     "output_type": "execute_result"
    }
   ],
   "source": [
    "dframe.describe"
   ]
  },
  {
   "cell_type": "code",
   "execution_count": 33,
   "id": "23a5ba17-4466-4174-844b-a72205a90004",
   "metadata": {},
   "outputs": [
    {
     "data": {
      "text/plain": [
       "<bound method DataFrame.info of    Visitor_ID                                Name   Age  Ticket_Price  \\\n",
       "0       V1000     ABHISHEK SANDEEP      ZADE       25.0         500.0   \n",
       "1       V1001             ARNAV AJAY DESHPANDE..   23.0         750.0   \n",
       "2       V1002  .. .. ASHWINI LALCHAND MUNDAWARE/   22.0         500.0   \n",
       "3       V1003              GAYATRI SURESH GAIKWAD   NaN        1000.0   \n",
       "4       V1004           HARSHADA GANESH CHAUDHARI  21.0           NaN   \n",
       "5       V1005            VAIBHAVI HARISHWAR PATIL  25.0         500.0   \n",
       "6       V1006                                 NaN  24.0         700.0   \n",
       "7       V1007             VISHAKHA PUNDLIK JADHAV  24.0         650.0   \n",
       "8       V1008                YASH BHARAT SOLUNKE/  28.0         750.0   \n",
       "9       V1009               VIVEK SANTOSH KHANDWE   NaN        1000.0   \n",
       "10      V1010             VISHAKHA PUNDLIK JADHAV  22.0         500.0   \n",
       "11      V1011                  Tanushree chhanwal  23.0         800.0   \n",
       "12      V1012                      Shruti jaiswal  25.0           NaN   \n",
       "13      V1013                    Shriyash Sulakhe  27.0         750.0   \n",
       "14      V1014                 YASH BHARAT SOLUNKE  25.0         500.0   \n",
       "15      V1015                                 NaN  30.0         700.0   \n",
       "16      V1016                ARNAV AJAY DESHPANDE  31.0         900.0   \n",
       "17      V1017                RUTUJA SANTOSH THOTE  26.0         850.0   \n",
       "18      V1018                  ROHIT DILIP BILWAL  19.0         750.0   \n",
       "19      V1019              RITESH SHIVAJI BAIRAGI  19.0           NaN   \n",
       "\n",
       "   Check_In_Time        City           State  \n",
       "0       10:00 AM       Delhi           Delhi  \n",
       "1       10:30 AM  Aurangabad      Maharastra  \n",
       "2       11:00 AM      Mumbai      Maharastra  \n",
       "3       11:30 AM      Bombay      Maharastra  \n",
       "4            NaN   New Delhi           Delhi  \n",
       "5       10:00 AM         NDL           Delhi  \n",
       "6       12:00 PM     Chennai       Tamilnadu  \n",
       "7       12:30 PM      Chenai       Tamilnadu  \n",
       "8       01:00 PM    Chennaai       Tamilnadu  \n",
       "9       01:30 PM   Bangalore       Karnataka  \n",
       "10      11:00 AM       Delhi           Delhi  \n",
       "11      02:00 PM        Pune      Maharastra  \n",
       "12           NaN   New Delhi           Delhi  \n",
       "13      02:30 PM      Bombay      Maharastra  \n",
       "14      10:00 AM   New Delhi           Delhi  \n",
       "15      12:00 PM         NDL           Delhi  \n",
       "16      03:00 PM      Indore  Madhya Pradesh  \n",
       "17      03:30 PM   Bangalore       Karnataka  \n",
       "18      04:00 PM      Ujjain  Madhya Pradesh  \n",
       "19           NaN   Bangalore       Karnataka  >"
      ]
     },
     "execution_count": 33,
     "metadata": {},
     "output_type": "execute_result"
    }
   ],
   "source": [
    "dframe.info"
   ]
  },
  {
   "cell_type": "code",
   "execution_count": 35,
   "id": "7c3b8fb2-a951-460f-b662-d88337eff2e4",
   "metadata": {},
   "outputs": [
    {
     "data": {
      "text/plain": [
       "(20, 7)"
      ]
     },
     "execution_count": 35,
     "metadata": {},
     "output_type": "execute_result"
    }
   ],
   "source": [
    "dframe.shape"
   ]
  },
  {
   "cell_type": "code",
   "execution_count": null,
   "id": "fadb19ce-4e33-40da-8fa5-a78d89893adf",
   "metadata": {},
   "outputs": [],
   "source": [
    "dframe"
   ]
  }
 ],
 "metadata": {
  "kernelspec": {
   "display_name": "Python [conda env:base] *",
   "language": "python",
   "name": "conda-base-py"
  },
  "language_info": {
   "codemirror_mode": {
    "name": "ipython",
    "version": 3
   },
   "file_extension": ".py",
   "mimetype": "text/x-python",
   "name": "python",
   "nbconvert_exporter": "python",
   "pygments_lexer": "ipython3",
   "version": "3.12.7"
  }
 },
 "nbformat": 4,
 "nbformat_minor": 5
}
